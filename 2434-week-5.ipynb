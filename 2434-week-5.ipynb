{
  "cells": [
    {
      "cell_type": "markdown",
      "metadata": {
        "id": "view-in-github",
        "colab_type": "text"
      },
      "source": [
        "<a href=\"https://colab.research.google.com/github/Veerlasathvikapatel/Generative-AI-2025/blob/main/2434-week-5.ipynb\" target=\"_parent\"><img src=\"https://colab.research.google.com/assets/colab-badge.svg\" alt=\"Open In Colab\"/></a>"
      ]
    },
    {
      "cell_type": "code",
      "source": [
        "import numpy as np\n",
        "\n",
        "# Activation functions\n",
        "def sigmoid(x):\n",
        "    return 1 / (1 + np.exp(-x))\n",
        "\n",
        "def sigmoid_derivative(x):\n",
        "    return x * (1 - x)\n",
        "\n",
        "def linear(x):\n",
        "    return x\n",
        "\n",
        "def linear_derivative(x):\n",
        "    return 1\n",
        "\n",
        "# ANN Model\n",
        "class ANN:\n",
        "    def __init__(self, input_size, hidden_size, output_size):\n",
        "        self.weights1 = np.random.randn(input_size, hidden_size) * 0.01  # Initialize weights with small random values\n",
        "        self.bias1 = np.zeros((1, hidden_size))\n",
        "        self.weights2 = np.random.randn(hidden_size, output_size) * 0.01\n",
        "        self.bias2 = np.zeros((1, output_size))\n",
        "\n",
        "    def forward(self, X):\n",
        "        self.hidden_output = sigmoid(np.dot(X, self.weights1) + self.bias1)\n",
        "        self.output = linear(np.dot(self.hidden_output, self.weights2) + self.bias2)\n",
        "        return self.output\n",
        "\n",
        "    def backward(self, X, y, learning_rate):\n",
        "        # Output layer\n",
        "        error_output = y - self.output\n",
        "        delta_output = error_output * linear_derivative(self.output)  # No derivative needed for linear in this specific case.\n",
        "\n",
        "        # Hidden layer\n",
        "        error_hidden = delta_output.dot(self.weights2.T)\n",
        "        delta_hidden = error_hidden * sigmoid_derivative(self.hidden_output)\n",
        "\n",
        "        # Update weights and biases\n",
        "        self.weights2 += self.hidden_output.T.dot(delta_output) * learning_rate\n",
        "        self.bias2 += np.sum(delta_output, axis=0, keepdims=True) * learning_rate\n",
        "        self.weights1 += X.T.dot(delta_hidden) * learning_rate\n",
        "        self.bias1 += np.sum(delta_hidden, axis=0, keepdims=True) * learning_rate\n",
        "\n",
        "    def train(self, X, y, epochs, learning_rate):\n",
        "        for epoch in range(epochs):\n",
        "            output = self.forward(X)\n",
        "            self.backward(X, y, learning_rate)\n",
        "\n",
        "    def predict(self, X):\n",
        "        self.forward(X)  # Reuse the forward pass for prediction\n",
        "        return self.output\n",
        "\n",
        "# Training Data\n",
        "X_train = np.array([[0.1, 0.2], [0.2, 0.3], [0.3, 0.4], [0.6, 0.7], [0.7, 0.8], [0.8, 0.9]])\n",
        "y_train = np.array([[0.3432], [0.3490], [0.3548], [0.3720], [0.3776], [0.3832]])\n",
        "\n",
        "# Test Data\n",
        "X_test = np.array([[0.4, 0.5], [0.5, 0.6]])\n",
        "y_test = np.array([[0.3606], [0.3663]])\n",
        "\n",
        "# Initialize and train the model\n",
        "input_size = 2\n",
        "hidden_size = 4  # You can adjust the number of neurons in the hidden layer\n",
        "output_size = 1\n",
        "ann = ANN(input_size, hidden_size, output_size)\n",
        "ann.train(X_train, y_train, epochs=5000, learning_rate=0.1)  # Adjust epochs and learning rate as needed\n",
        "\n",
        "\n",
        "# Calculate Mean Squared Error (MSE)\n",
        "def calculate_mse(X, y, model):\n",
        "    predictions = model.predict(X)\n",
        "    mse = np.mean((y - predictions)**2)\n",
        "    return mse\n",
        "\n",
        "train_mse = calculate_mse(X_train, y_train, ann)\n",
        "test_mse = calculate_mse(X_test, y_test, ann)\n",
        "\n",
        "print(f\"Train MSE: {train_mse}\")\n",
        "print(f\"Test MSE: {test_mse}\")\n",
        "\n",
        "\n",
        "# User input and prediction\n",
        "while True:\n",
        "    try:\n",
        "        x1 = float(input(\"Enter x1: \"))\n",
        "        x2 = float(input(\"Enter x2: \"))\n",
        "        user_input = np.array([[x1, x2]])\n",
        "        prediction = ann.predict(user_input)\n",
        "        print(f\"Predicted output: {prediction[0][0]}\")\n",
        "        another_prediction = input(\"Do you want to make another prediction? (yes/no): \")\n",
        "        if another_prediction.lower() != 'yes':\n",
        "            break\n",
        "    except ValueError:\n",
        "        print(\"Invalid input. Please enter numbers only.\")"
      ],
      "metadata": {
        "id": "TT9uSh3lFAn1",
        "outputId": "13519fc9-9cad-4ecb-e974-7bf078fcd45b",
        "colab": {
          "base_uri": "https://localhost:8080/"
        }
      },
      "execution_count": null,
      "outputs": [
        {
          "name": "stdout",
          "output_type": "stream",
          "text": [
            "Train MSE: 4.3591828458983226e-07\n",
            "Test MSE: 2.0910209464493423e-08\n",
            "Enter x1: 0.4\n",
            "Enter x2: 0.5\n",
            "Predicted output: 0.3606245874023211\n",
            "Do you want to make another prediction? (yes/no): yes\n",
            "Enter x1: 0.5\n",
            "Enter x2: 0.6\n",
            "Predicted output: 0.3660969830584013\n",
            "Do you want to make another prediction? (yes/no): noo\n"
          ]
        }
      ]
    }
  ],
  "metadata": {
    "colab": {
      "toc_visible": true,
      "provenance": [],
      "include_colab_link": true
    },
    "kernelspec": {
      "display_name": "Python 3",
      "name": "python3"
    }
  },
  "nbformat": 4,
  "nbformat_minor": 0
}